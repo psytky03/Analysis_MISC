{
  "nbformat": 4,
  "nbformat_minor": 0,
  "metadata": {
    "colab": {
      "name": "spliceAI.ipynb",
      "provenance": [],
      "toc_visible": true,
      "include_colab_link": true
    },
    "kernelspec": {
      "name": "python3",
      "display_name": "Python 3"
    },
    "accelerator": "GPU"
  },
  "cells": [
    {
      "cell_type": "markdown",
      "metadata": {
        "id": "view-in-github",
        "colab_type": "text"
      },
      "source": [
        "<a href=\"https://colab.research.google.com/github/psytky03/Analysis_MISC/blob/master/spliceAI.ipynb\" target=\"_parent\"><img src=\"https://colab.research.google.com/assets/colab-badge.svg\" alt=\"Open In Colab\"/></a>"
      ]
    },
    {
      "cell_type": "markdown",
      "metadata": {
        "id": "q2yM3nSwCyod",
        "colab_type": "text"
      },
      "source": [
        "## Objectif \n",
        "Get all probabilities of splicing impact along a transcript.\n",
        "\n",
        "## How \n",
        "Create a vcf file with all possible snps of a transcript defined by the user. \n",
        "Then run SpliceAI and export a bedgraph to display probabilites on IGV\n",
        "\n",
        "https://github.com/Illumina/SpliceAI"
      ]
    },
    {
      "cell_type": "code",
      "metadata": {
        "colab_type": "code",
        "id": "wzK84cTjK8Qz",
        "colab": {
          "base_uri": "https://localhost:8080/",
          "height": 391
        },
        "outputId": "84757265-4132-4264-b3ab-0ea3ca9753d0"
      },
      "source": [
        "# Download hg19.fa and refGene\n",
        "!wget http://hgdownload.soe.ucsc.edu/goldenPath/hg19/bigZips/hg19.fa.gz\n",
        "!wget http://hgdownload.soe.ucsc.edu/goldenPath/hg19/database/refGene.txt.gz"
      ],
      "execution_count": 1,
      "outputs": [
        {
          "output_type": "stream",
          "text": [
            "--2020-05-26 10:39:57--  http://hgdownload.soe.ucsc.edu/goldenPath/hg19/bigZips/hg19.fa.gz\n",
            "Resolving hgdownload.soe.ucsc.edu (hgdownload.soe.ucsc.edu)... 128.114.119.163\n",
            "Connecting to hgdownload.soe.ucsc.edu (hgdownload.soe.ucsc.edu)|128.114.119.163|:80... connected.\n",
            "HTTP request sent, awaiting response... 200 OK\n",
            "Length: 948731419 (905M) [application/x-gzip]\n",
            "Saving to: ‘hg19.fa.gz’\n",
            "\n",
            "hg19.fa.gz          100%[===================>] 904.78M  14.7MB/s    in 58s     \n",
            "\n",
            "2020-05-26 10:40:55 (15.6 MB/s) - ‘hg19.fa.gz’ saved [948731419/948731419]\n",
            "\n",
            "--2020-05-26 10:40:57--  http://hgdownload.soe.ucsc.edu/goldenPath/hg19/database/refGene.txt.gz\n",
            "Resolving hgdownload.soe.ucsc.edu (hgdownload.soe.ucsc.edu)... 128.114.119.163\n",
            "Connecting to hgdownload.soe.ucsc.edu (hgdownload.soe.ucsc.edu)|128.114.119.163|:80... connected.\n",
            "HTTP request sent, awaiting response... 200 OK\n",
            "Length: 7751489 (7.4M) [application/x-gzip]\n",
            "Saving to: ‘refGene.txt.gz’\n",
            "\n",
            "refGene.txt.gz      100%[===================>]   7.39M  1.53MB/s    in 4.8s    \n",
            "\n",
            "2020-05-26 10:41:02 (1.53 MB/s) - ‘refGene.txt.gz’ saved [7751489/7751489]\n",
            "\n"
          ],
          "name": "stdout"
        }
      ]
    },
    {
      "cell_type": "code",
      "metadata": {
        "id": "h-Z8oOt3J1X6",
        "colab_type": "code",
        "colab": {}
      },
      "source": [
        "!gzip -d hg19.fa.gz"
      ],
      "execution_count": 0,
      "outputs": []
    },
    {
      "cell_type": "code",
      "metadata": {
        "id": "oeWK28bvCT8M",
        "colab_type": "code",
        "colab": {
          "base_uri": "https://localhost:8080/",
          "height": 836
        },
        "outputId": "e8a5a1bd-63d5-4c7c-c476-da771990d736"
      },
      "source": [
        "# Install dependencies\n",
        "!pip install refgene_parser\n",
        "!pip install pyfastx\n",
        "!pip install spliceai\n",
        "!pip install biopython"
      ],
      "execution_count": 3,
      "outputs": [
        {
          "output_type": "stream",
          "text": [
            "Collecting refgene_parser\n",
            "  Downloading https://files.pythonhosted.org/packages/1c/91/07a366e7eca7aedd160a456c6b12a26a987d223700191da062c39c3cceb8/refgene_parser-0.0.1.tar.gz\n",
            "Building wheels for collected packages: refgene-parser\n",
            "  Building wheel for refgene-parser (setup.py) ... \u001b[?25l\u001b[?25hdone\n",
            "  Created wheel for refgene-parser: filename=refgene_parser-0.0.1-cp36-none-any.whl size=4786 sha256=dbd3b3caa311d85f75f0a0bcfec79285d63e2e23018d5833fa9227e93f7f17da\n",
            "  Stored in directory: /root/.cache/pip/wheels/44/65/1a/1ff7df49af86cb3acf3fbea1fe7d768e600d800c504fa21dd3\n",
            "Successfully built refgene-parser\n",
            "Installing collected packages: refgene-parser\n",
            "Successfully installed refgene-parser-0.0.1\n",
            "Collecting pyfastx\n",
            "\u001b[?25l  Downloading https://files.pythonhosted.org/packages/83/db/8d6f8c1a2b3846af107c4d54497138b631df5793dfbf833ffa9f05846d2f/pyfastx-0.6.11-cp36-cp36m-manylinux2010_x86_64.whl (829kB)\n",
            "\u001b[K     |████████████████████████████████| 839kB 19.9MB/s \n",
            "\u001b[?25hInstalling collected packages: pyfastx\n",
            "Successfully installed pyfastx-0.6.11\n",
            "Collecting spliceai\n",
            "\u001b[?25l  Downloading https://files.pythonhosted.org/packages/d6/2b/9dbf72fdd948cd606c21826cc3735a5beea52633dab72d95d9936a9454d4/spliceai-1.3.1-py2.py3-none-any.whl (16.7MB)\n",
            "\u001b[K     |████████████████████████████████| 16.7MB 211kB/s \n",
            "\u001b[?25hCollecting pyfaidx>=0.5.0\n",
            "  Downloading https://files.pythonhosted.org/packages/d9/eb/bca4c916d2cde775b5127cef22f276142b01e89fc31fecd832ed996dc97e/pyfaidx-0.5.8.tar.gz\n",
            "Collecting pysam>=0.10.0\n",
            "\u001b[?25l  Downloading https://files.pythonhosted.org/packages/2b/01/2be4def91aeb50ccb963879b8193ca667087308696f2fe6aa86c6da9db72/pysam-0.15.4-cp36-cp36m-manylinux2010_x86_64.whl (10.7MB)\n",
            "\u001b[K     |████████████████████████████████| 10.8MB 46.3MB/s \n",
            "\u001b[?25hRequirement already satisfied: pandas>=0.24.2 in /usr/local/lib/python3.6/dist-packages (from spliceai) (1.0.3)\n",
            "Requirement already satisfied: numpy>=1.14.0 in /usr/local/lib/python3.6/dist-packages (from spliceai) (1.18.4)\n",
            "Requirement already satisfied: keras>=2.0.5 in /usr/local/lib/python3.6/dist-packages (from spliceai) (2.3.1)\n",
            "Requirement already satisfied: six in /usr/local/lib/python3.6/dist-packages (from pyfaidx>=0.5.0->spliceai) (1.12.0)\n",
            "Requirement already satisfied: setuptools>=0.7 in /usr/local/lib/python3.6/dist-packages (from pyfaidx>=0.5.0->spliceai) (46.3.0)\n",
            "Requirement already satisfied: python-dateutil>=2.6.1 in /usr/local/lib/python3.6/dist-packages (from pandas>=0.24.2->spliceai) (2.8.1)\n",
            "Requirement already satisfied: pytz>=2017.2 in /usr/local/lib/python3.6/dist-packages (from pandas>=0.24.2->spliceai) (2018.9)\n",
            "Requirement already satisfied: keras-applications>=1.0.6 in /usr/local/lib/python3.6/dist-packages (from keras>=2.0.5->spliceai) (1.0.8)\n",
            "Requirement already satisfied: h5py in /usr/local/lib/python3.6/dist-packages (from keras>=2.0.5->spliceai) (2.10.0)\n",
            "Requirement already satisfied: scipy>=0.14 in /usr/local/lib/python3.6/dist-packages (from keras>=2.0.5->spliceai) (1.4.1)\n",
            "Requirement already satisfied: keras-preprocessing>=1.0.5 in /usr/local/lib/python3.6/dist-packages (from keras>=2.0.5->spliceai) (1.1.2)\n",
            "Requirement already satisfied: pyyaml in /usr/local/lib/python3.6/dist-packages (from keras>=2.0.5->spliceai) (3.13)\n",
            "Building wheels for collected packages: pyfaidx\n",
            "  Building wheel for pyfaidx (setup.py) ... \u001b[?25l\u001b[?25hdone\n",
            "  Created wheel for pyfaidx: filename=pyfaidx-0.5.8-cp36-none-any.whl size=25051 sha256=dbd9650276ec0c9f860e56b36080dba1741c911824f9d802a84e22c4e07c7dc1\n",
            "  Stored in directory: /root/.cache/pip/wheels/58/ea/ee/59d4649b0fb82a0690bdeae834bc85891b306126bcc067e29f\n",
            "Successfully built pyfaidx\n",
            "Installing collected packages: pyfaidx, pysam, spliceai\n",
            "Successfully installed pyfaidx-0.5.8 pysam-0.15.4 spliceai-1.3.1\n",
            "Collecting biopython\n",
            "\u001b[?25l  Downloading https://files.pythonhosted.org/packages/a8/66/134dbd5f885fc71493c61b6cf04c9ea08082da28da5ed07709b02857cbd0/biopython-1.77-cp36-cp36m-manylinux1_x86_64.whl (2.3MB)\n",
            "\u001b[K     |████████████████████████████████| 2.3MB 21.4MB/s \n",
            "\u001b[?25hRequirement already satisfied: numpy in /usr/local/lib/python3.6/dist-packages (from biopython) (1.18.4)\n",
            "Installing collected packages: biopython\n",
            "Successfully installed biopython-1.77\n"
          ],
          "name": "stdout"
        }
      ]
    },
    {
      "cell_type": "code",
      "metadata": {
        "id": "-gEDbBs6Crxh",
        "colab_type": "code",
        "colab": {}
      },
      "source": [
        "from refgene_parser import RefGene\n",
        "import pyfastx"
      ],
      "execution_count": 0,
      "outputs": []
    },
    {
      "cell_type": "code",
      "metadata": {
        "id": "yWZ1zBiADQic",
        "colab_type": "code",
        "colab": {}
      },
      "source": [
        "refgene = RefGene(\"refGene.txt.gz\")\n",
        "hg19 = pyfastx.Fasta('hg19.fa' )"
      ],
      "execution_count": 0,
      "outputs": []
    },
    {
      "cell_type": "code",
      "metadata": {
        "id": "lnhZzYxjGJge",
        "colab_type": "code",
        "colab": {}
      },
      "source": [
        "def mute(ref):\n",
        "  \"\"\"If I give you A, return me [C,G,T]\"\"\"\n",
        "  if ref not in \"ACGT\":\n",
        "    return None\n",
        "  return list(\"ACGT\".replace(ref,\"\"))\n"
      ],
      "execution_count": 0,
      "outputs": []
    },
    {
      "cell_type": "code",
      "metadata": {
        "id": "OCaNy6SzDcxh",
        "colab_type": "code",
        "colab": {}
      },
      "source": [
        "gene = refgene.gene_by_id(\"NM_003122\") # <==== Put your transcript name as defined in refgene\n",
        "\n",
        "margin = 0 # <=== You can add a left/right margin around your transcript\n",
        "\n",
        "# Get sequence of the transcript\n",
        "seq = hg19.fetch(gene.chrom, (gene.start - margin, gene.end + margin))\n",
        "\n",
        "# Get first position according margin\n",
        "pos = gene.start - margin \n",
        "\n",
        "# Create a VCF file \n",
        "with open(\"variants.vcf\", \"w\") as file:\n",
        "\n",
        "  print(\"\"\"##fileformat=VCFv4.2\n",
        "##fileDate=20191004\n",
        "##reference=GRCh37/hg19\n",
        "##contig=<ID=chr1,length=249250621>\n",
        "##contig=<ID=chr2,length=243199373>\n",
        "##contig=<ID=chr3,length=198022430>\n",
        "##contig=<ID=chr4,length=191154276>\n",
        "##contig=<ID=chr5,length=180915260>\n",
        "##contig=<ID=chr6,length=171115067>\n",
        "##contig=<ID=chr7,length=159138663>\n",
        "##contig=<ID=chr8,length=146364022>\n",
        "##contig=<ID=chr9,length=141213431>\n",
        "##contig=<ID=chr10,length=135534747>\n",
        "##contig=<ID=chr11,length=135006516>\n",
        "##contig=<ID=chr12,length=133851895>\n",
        "##contig=<ID=chr13,length=115169878>\n",
        "##contig=<ID=chr14,length=107349540>\n",
        "##contig=<ID=chr15,length=102531392>\n",
        "##contig=<ID=chr16,length=90354753>\n",
        "##contig=<ID=chr17,length=81195210>\n",
        "##contig=<ID=chr18,length=78077248>\n",
        "##contig=<ID=chr19,length=59128983>\n",
        "##contig=<ID=chr20,length=63025520>\n",
        "##contig=<ID=chr21,length=48129895>\n",
        "##contig=<ID=chr22,length=51304566>\n",
        "##contig=<ID=chrX,length=155270560>\n",
        "##contig=<ID=chrY,length=59373566>\n",
        "#CHROM\\tPOS\\tID\\tREF\\tALT\\tQUAL\\tFILTER\\tINFO\"\"\", file = file)\n",
        "\n",
        "  # Loop over all base in sequence, and create 3 alternatives mutation for each one\n",
        "  for base in seq:\n",
        "    for alt in mute(base):\n",
        "      print(gene.chrom, pos, \".\", base, alt, 30, \"PASS\",sep=\"\\t\", file = file )\n",
        "    pos += 1 \n",
        "    \n"
      ],
      "execution_count": 0,
      "outputs": []
    },
    {
      "cell_type": "markdown",
      "metadata": {
        "id": "6SAmPbR8LcQL",
        "colab_type": "text"
      },
      "source": [
        "Run Splice AI.. This can takes a while if you transcript is long .. You can enable GPU from notebook Settings.\n",
        "But at the end, prefer running this notebook on your own server . "
      ]
    },
    {
      "cell_type": "code",
      "metadata": {
        "id": "C8FFX3YRE1Yf",
        "colab_type": "code",
        "colab": {
          "base_uri": "https://localhost:8080/",
          "height": 897
        },
        "outputId": "92fcd7f2-0ed5-4983-f43a-eb27cc844bb5"
      },
      "source": [
        "!spliceai -I variants.vcf -O output.vcf -R hg19.fa -A grch37"
      ],
      "execution_count": 0,
      "outputs": [
        {
          "output_type": "stream",
          "text": [
            "Using TensorFlow backend.\n",
            "2020-05-26 06:43:38.537850: I tensorflow/stream_executor/platform/default/dso_loader.cc:44] Successfully opened dynamic library libcudart.so.10.1\n",
            "2020-05-26 06:44:14.104919: I tensorflow/stream_executor/platform/default/dso_loader.cc:44] Successfully opened dynamic library libcuda.so.1\n",
            "2020-05-26 06:44:14.163014: I tensorflow/stream_executor/cuda/cuda_gpu_executor.cc:981] successful NUMA node read from SysFS had negative value (-1), but there must be at least one NUMA node, so returning NUMA node zero\n",
            "2020-05-26 06:44:14.163641: I tensorflow/core/common_runtime/gpu/gpu_device.cc:1561] Found device 0 with properties: \n",
            "pciBusID: 0000:00:04.0 name: Tesla T4 computeCapability: 7.5\n",
            "coreClock: 1.59GHz coreCount: 40 deviceMemorySize: 14.73GiB deviceMemoryBandwidth: 298.08GiB/s\n",
            "2020-05-26 06:44:14.163696: I tensorflow/stream_executor/platform/default/dso_loader.cc:44] Successfully opened dynamic library libcudart.so.10.1\n",
            "2020-05-26 06:44:14.419368: I tensorflow/stream_executor/platform/default/dso_loader.cc:44] Successfully opened dynamic library libcublas.so.10\n",
            "2020-05-26 06:44:14.540063: I tensorflow/stream_executor/platform/default/dso_loader.cc:44] Successfully opened dynamic library libcufft.so.10\n",
            "2020-05-26 06:44:14.574868: I tensorflow/stream_executor/platform/default/dso_loader.cc:44] Successfully opened dynamic library libcurand.so.10\n",
            "2020-05-26 06:44:14.829160: I tensorflow/stream_executor/platform/default/dso_loader.cc:44] Successfully opened dynamic library libcusolver.so.10\n",
            "2020-05-26 06:44:14.871776: I tensorflow/stream_executor/platform/default/dso_loader.cc:44] Successfully opened dynamic library libcusparse.so.10\n",
            "2020-05-26 06:44:15.349854: I tensorflow/stream_executor/platform/default/dso_loader.cc:44] Successfully opened dynamic library libcudnn.so.7\n",
            "2020-05-26 06:44:15.350046: I tensorflow/stream_executor/cuda/cuda_gpu_executor.cc:981] successful NUMA node read from SysFS had negative value (-1), but there must be at least one NUMA node, so returning NUMA node zero\n",
            "2020-05-26 06:44:15.350750: I tensorflow/stream_executor/cuda/cuda_gpu_executor.cc:981] successful NUMA node read from SysFS had negative value (-1), but there must be at least one NUMA node, so returning NUMA node zero\n",
            "2020-05-26 06:44:15.351329: I tensorflow/core/common_runtime/gpu/gpu_device.cc:1703] Adding visible gpu devices: 0\n",
            "2020-05-26 06:44:15.380359: I tensorflow/core/platform/profile_utils/cpu_utils.cc:102] CPU Frequency: 2200000000 Hz\n",
            "2020-05-26 06:44:15.380584: I tensorflow/compiler/xla/service/service.cc:168] XLA service 0x5feaa80 initialized for platform Host (this does not guarantee that XLA will be used). Devices:\n",
            "2020-05-26 06:44:15.380616: I tensorflow/compiler/xla/service/service.cc:176]   StreamExecutor device (0): Host, Default Version\n",
            "2020-05-26 06:44:15.533757: I tensorflow/stream_executor/cuda/cuda_gpu_executor.cc:981] successful NUMA node read from SysFS had negative value (-1), but there must be at least one NUMA node, so returning NUMA node zero\n",
            "2020-05-26 06:44:15.534448: I tensorflow/compiler/xla/service/service.cc:168] XLA service 0x5feac40 initialized for platform CUDA (this does not guarantee that XLA will be used). Devices:\n",
            "2020-05-26 06:44:15.534475: I tensorflow/compiler/xla/service/service.cc:176]   StreamExecutor device (0): Tesla T4, Compute Capability 7.5\n",
            "2020-05-26 06:44:15.535594: I tensorflow/stream_executor/cuda/cuda_gpu_executor.cc:981] successful NUMA node read from SysFS had negative value (-1), but there must be at least one NUMA node, so returning NUMA node zero\n",
            "2020-05-26 06:44:15.536112: I tensorflow/core/common_runtime/gpu/gpu_device.cc:1561] Found device 0 with properties: \n",
            "pciBusID: 0000:00:04.0 name: Tesla T4 computeCapability: 7.5\n",
            "coreClock: 1.59GHz coreCount: 40 deviceMemorySize: 14.73GiB deviceMemoryBandwidth: 298.08GiB/s\n",
            "2020-05-26 06:44:15.536186: I tensorflow/stream_executor/platform/default/dso_loader.cc:44] Successfully opened dynamic library libcudart.so.10.1\n",
            "2020-05-26 06:44:15.536232: I tensorflow/stream_executor/platform/default/dso_loader.cc:44] Successfully opened dynamic library libcublas.so.10\n",
            "2020-05-26 06:44:15.536257: I tensorflow/stream_executor/platform/default/dso_loader.cc:44] Successfully opened dynamic library libcufft.so.10\n",
            "2020-05-26 06:44:15.536277: I tensorflow/stream_executor/platform/default/dso_loader.cc:44] Successfully opened dynamic library libcurand.so.10\n",
            "2020-05-26 06:44:15.536297: I tensorflow/stream_executor/platform/default/dso_loader.cc:44] Successfully opened dynamic library libcusolver.so.10\n",
            "2020-05-26 06:44:15.536316: I tensorflow/stream_executor/platform/default/dso_loader.cc:44] Successfully opened dynamic library libcusparse.so.10\n",
            "2020-05-26 06:44:15.536335: I tensorflow/stream_executor/platform/default/dso_loader.cc:44] Successfully opened dynamic library libcudnn.so.7\n",
            "2020-05-26 06:44:15.536400: I tensorflow/stream_executor/cuda/cuda_gpu_executor.cc:981] successful NUMA node read from SysFS had negative value (-1), but there must be at least one NUMA node, so returning NUMA node zero\n",
            "2020-05-26 06:44:15.536970: I tensorflow/stream_executor/cuda/cuda_gpu_executor.cc:981] successful NUMA node read from SysFS had negative value (-1), but there must be at least one NUMA node, so returning NUMA node zero\n",
            "2020-05-26 06:44:15.537490: I tensorflow/core/common_runtime/gpu/gpu_device.cc:1703] Adding visible gpu devices: 0\n",
            "2020-05-26 06:44:15.540885: I tensorflow/stream_executor/platform/default/dso_loader.cc:44] Successfully opened dynamic library libcudart.so.10.1\n",
            "2020-05-26 06:44:22.292101: I tensorflow/core/common_runtime/gpu/gpu_device.cc:1102] Device interconnect StreamExecutor with strength 1 edge matrix:\n",
            "2020-05-26 06:44:22.292159: I tensorflow/core/common_runtime/gpu/gpu_device.cc:1108]      0 \n",
            "2020-05-26 06:44:22.292175: I tensorflow/core/common_runtime/gpu/gpu_device.cc:1121] 0:   N \n",
            "2020-05-26 06:44:22.296867: I tensorflow/stream_executor/cuda/cuda_gpu_executor.cc:981] successful NUMA node read from SysFS had negative value (-1), but there must be at least one NUMA node, so returning NUMA node zero\n",
            "2020-05-26 06:44:22.297502: I tensorflow/stream_executor/cuda/cuda_gpu_executor.cc:981] successful NUMA node read from SysFS had negative value (-1), but there must be at least one NUMA node, so returning NUMA node zero\n",
            "2020-05-26 06:44:22.298029: W tensorflow/core/common_runtime/gpu/gpu_bfc_allocator.cc:39] Overriding allow_growth setting because the TF_FORCE_GPU_ALLOW_GROWTH environment variable is set. Original config value was 0.\n",
            "2020-05-26 06:44:22.298073: I tensorflow/core/common_runtime/gpu/gpu_device.cc:1247] Created TensorFlow device (/job:localhost/replica:0/task:0/device:GPU:0 with 13970 MB memory) -> physical GPU (device: 0, name: Tesla T4, pci bus id: 0000:00:04.0, compute capability: 7.5)\n",
            "/usr/local/lib/python3.6/dist-packages/keras/engine/saving.py:341: UserWarning: No training configuration found in save file: the model was *not* compiled. Compile it manually.\n",
            "  warnings.warn('No training configuration found in save file: '\n",
            "2020-05-26 06:44:35.169525: I tensorflow/stream_executor/platform/default/dso_loader.cc:44] Successfully opened dynamic library libcudnn.so.7\n",
            "2020-05-26 06:44:40.288145: I tensorflow/stream_executor/platform/default/dso_loader.cc:44] Successfully opened dynamic library libcublas.so.10\n"
          ],
          "name": "stdout"
        }
      ]
    },
    {
      "cell_type": "code",
      "metadata": {
        "id": "nPsE86ksF8ca",
        "colab_type": "code",
        "outputId": "99642f01-e7c1-459e-ce3b-e321062c1bda",
        "colab": {
          "base_uri": "https://localhost:8080/",
          "height": 35
        }
      },
      "source": [
        "# Create a bedgraph.. The following line export first element of spliceAI output ( DS_AG )\n",
        "# There is 3 snps per position. Change modulo values to keep only once : NR%3 == 0\n",
        "!echo \"track type=bedGraph name=\\\"BedGraph Format\\\" description=\\\"BedGraph format\\\" visibility=full color=200,100,0 altColor=0,100,200 priority=20\" > proba.bedGraph\n",
        "!cat output.vcf|grep Splice|sed \"s/|/\\t/g\"|awk 'BEGIN{OFS=\"\\t\"}NR%3 == 0{print $1,$2,$2+1, $10}' >> proba.bedGraph"
      ],
      "execution_count": 0,
      "outputs": [
        {
          "output_type": "stream",
          "text": [
            "track type=bedGraph name=\"BedGraph Format\" description=\"BedGraph format\" visibility=full color=200,100,0 altColor=0,100,200 priority=20\n"
          ],
          "name": "stdout"
        }
      ]
    }
  ]
}